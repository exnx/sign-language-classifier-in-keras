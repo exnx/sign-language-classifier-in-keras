{
 "cells": [
  {
   "cell_type": "code",
   "execution_count": 1,
   "metadata": {},
   "outputs": [
    {
     "name": "stderr",
     "output_type": "stream",
     "text": [
      "Using TensorFlow backend.\n"
     ]
    }
   ],
   "source": [
    "import numpy as np\n",
    "import keras\n",
    "from keras import backend as K\n",
    "from keras.layers.core import Dense\n",
    "from keras.optimizers import Adam\n",
    "from keras.metrics import categorical_crossentropy\n",
    "from keras.preprocessing.image import ImageDataGenerator\n",
    "from keras.preprocessing import image\n",
    "from keras.models import Model\n",
    "from keras.applications import imagenet_utils\n",
    "from sklearn.metrics import confusion_matrix\n",
    "import itertools\n",
    "from matplotlib import pyplot as plt\n",
    "%matplotlib inline"
   ]
  },
  {
   "cell_type": "code",
   "execution_count": 2,
   "metadata": {
    "collapsed": true
   },
   "outputs": [],
   "source": [
    "train_path = 'Sign-Language-Digits-Dataset/train'\n",
    "valid_path = 'Sign-Language-Digits-Dataset/valid'\n",
    "test_path = 'Sign-Language-Digits-Dataset/test'"
   ]
  },
  {
   "cell_type": "code",
   "execution_count": 3,
   "metadata": {},
   "outputs": [
    {
     "name": "stdout",
     "output_type": "stream",
     "text": [
      "Found 1712 images belonging to 10 classes.\n",
      "Found 300 images belonging to 10 classes.\n",
      "Found 50 images belonging to 10 classes.\n"
     ]
    }
   ],
   "source": [
    "# passes in batches of normalized data\n",
    "train_batches = ImageDataGenerator(preprocessing_function=keras.applications.mobilenet.preprocess_input).flow_from_directory(train_path, target_size=(224,224), batch_size=10)\n",
    "valid_batches = ImageDataGenerator(preprocessing_function=keras.applications.mobilenet.preprocess_input).flow_from_directory(valid_path, target_size=(224,224), batch_size=10)\n",
    "test_batches = ImageDataGenerator(preprocessing_function=keras.applications.mobilenet.preprocess_input).flow_from_directory(test_path, target_size=(224,224), batch_size=10, shuffle=False)"
   ]
  },
  {
   "cell_type": "code",
   "execution_count": 4,
   "metadata": {
    "collapsed": true
   },
   "outputs": [],
   "source": [
    "def plot_confusion_matrix(cm, classes,\n",
    "                          normalize=False,\n",
    "                          title='Confusion matrix',\n",
    "                          cmap=plt.cm.Blues):\n",
    "    \"\"\"\n",
    "    This function prints and plots the confusion matrix.\n",
    "    Normalization can be applied by setting `normalize=True`.\n",
    "    \"\"\"\n",
    "    if normalize:\n",
    "        cm = cm.astype('float') / cm.sum(axis=1)[:, np.newaxis]\n",
    "        print(\"Normalized confusion matrix\")\n",
    "    else:\n",
    "        print('Confusion matrix, without normalization')\n",
    "\n",
    "    print(cm)\n",
    "\n",
    "    plt.imshow(cm, interpolation='nearest', cmap=cmap)\n",
    "    plt.title(title)\n",
    "    plt.colorbar()\n",
    "    tick_marks = np.arange(len(classes))\n",
    "    plt.xticks(tick_marks, classes, rotation=45)\n",
    "    plt.yticks(tick_marks, classes)\n",
    "\n",
    "    fmt = '.2f' if normalize else 'd'\n",
    "    thresh = cm.max() / 2.\n",
    "    for i, j in itertools.product(range(cm.shape[0]), range(cm.shape[1])):\n",
    "        plt.text(j, i, format(cm[i, j], fmt),\n",
    "                 horizontalalignment=\"center\",\n",
    "                 color=\"white\" if cm[i, j] > thresh else \"black\")\n",
    "\n",
    "    plt.tight_layout()\n",
    "    plt.ylabel('True label')\n",
    "    plt.xlabel('Predicted label')"
   ]
  },
  {
   "cell_type": "code",
   "execution_count": 5,
   "metadata": {
    "collapsed": true
   },
   "outputs": [],
   "source": [
    "mobile = keras.applications.mobilenet.MobileNet()"
   ]
  },
  {
   "cell_type": "code",
   "execution_count": 6,
   "metadata": {
    "collapsed": true,
    "scrolled": false
   },
   "outputs": [],
   "source": [
    "x = mobile.layers[-6].output\n",
    "predictions = Dense(10, activation='softmax')(x)"
   ]
  },
  {
   "cell_type": "code",
   "execution_count": 7,
   "metadata": {
    "collapsed": true
   },
   "outputs": [],
   "source": [
    "# the new model, made from the original mobilenet, up to the 6th layer,\n",
    "# and outputting 10 custom classes this time (from predictions line)\n",
    "model = Model(inputs=mobile.input, outputs=predictions)"
   ]
  },
  {
   "cell_type": "code",
   "execution_count": 8,
   "metadata": {
    "collapsed": true
   },
   "outputs": [],
   "source": [
    "for layer in model.layers[:-23]:\n",
    "    layer.trainable = False"
   ]
  },
  {
   "cell_type": "code",
   "execution_count": 9,
   "metadata": {
    "collapsed": true
   },
   "outputs": [],
   "source": [
    "model.compile(Adam(lr=0.0001), loss='categorical_crossentropy', metrics=['accuracy'])"
   ]
  },
  {
   "cell_type": "code",
   "execution_count": 10,
   "metadata": {
    "scrolled": false
   },
   "outputs": [
    {
     "name": "stdout",
     "output_type": "stream",
     "text": [
      "Epoch 1/60\n",
      " - 69s - loss: 2.0077 - acc: 0.3167 - val_loss: 2.1252 - val_acc: 0.2300\n",
      "Epoch 2/60\n",
      " - 68s - loss: 1.4016 - acc: 0.5891 - val_loss: 1.9118 - val_acc: 0.3533\n",
      "Epoch 3/60\n",
      " - 98s - loss: 0.9717 - acc: 0.6667 - val_loss: 1.7434 - val_acc: 0.4033\n",
      "Epoch 4/60\n",
      " - 83s - loss: 0.7349 - acc: 0.7944 - val_loss: 1.5674 - val_acc: 0.4167\n",
      "Epoch 5/60\n",
      " - 87s - loss: 0.6320 - acc: 0.8056 - val_loss: 1.4735 - val_acc: 0.4600\n",
      "Epoch 6/60\n",
      " - 80s - loss: 0.5620 - acc: 0.8333 - val_loss: 1.4027 - val_acc: 0.4933\n",
      "Epoch 7/60\n",
      " - 79s - loss: 0.5717 - acc: 0.8056 - val_loss: 1.3138 - val_acc: 0.5467\n",
      "Epoch 8/60\n",
      " - 83s - loss: 0.4861 - acc: 0.8667 - val_loss: 1.2283 - val_acc: 0.5700\n",
      "Epoch 9/60\n",
      " - 82s - loss: 0.3620 - acc: 0.9056 - val_loss: 1.1295 - val_acc: 0.5967\n",
      "Epoch 10/60\n",
      " - 82s - loss: 0.2946 - acc: 0.9167 - val_loss: 1.1220 - val_acc: 0.6167\n",
      "Epoch 11/60\n",
      " - 86s - loss: 0.2393 - acc: 0.9455 - val_loss: 1.0926 - val_acc: 0.6500\n",
      "Epoch 12/60\n",
      " - 93s - loss: 0.2212 - acc: 0.9611 - val_loss: 1.0445 - val_acc: 0.6600\n",
      "Epoch 13/60\n",
      " - 95s - loss: 0.1743 - acc: 0.9611 - val_loss: 0.9389 - val_acc: 0.7100\n",
      "Epoch 14/60\n",
      " - 82s - loss: 0.1762 - acc: 0.9500 - val_loss: 0.9763 - val_acc: 0.6133\n",
      "Epoch 15/60\n",
      " - 77s - loss: 0.1437 - acc: 0.9722 - val_loss: 0.9580 - val_acc: 0.6400\n",
      "Epoch 16/60\n",
      " - 77s - loss: 0.1649 - acc: 0.9611 - val_loss: 0.9211 - val_acc: 0.7000\n",
      "Epoch 17/60\n",
      " - 79s - loss: 0.1794 - acc: 0.9667 - val_loss: 0.8590 - val_acc: 0.7433\n",
      "Epoch 18/60\n",
      " - 77s - loss: 0.0980 - acc: 0.9889 - val_loss: 0.8238 - val_acc: 0.7433\n",
      "Epoch 19/60\n",
      " - 77s - loss: 0.1534 - acc: 0.9722 - val_loss: 0.8408 - val_acc: 0.7333\n",
      "Epoch 20/60\n",
      " - 77s - loss: 0.1196 - acc: 0.9833 - val_loss: 0.7948 - val_acc: 0.7500\n",
      "Epoch 21/60\n",
      " - 78s - loss: 0.0655 - acc: 1.0000 - val_loss: 0.7726 - val_acc: 0.7433\n",
      "Epoch 22/60\n",
      " - 77s - loss: 0.0985 - acc: 0.9833 - val_loss: 0.7396 - val_acc: 0.7533\n",
      "Epoch 23/60\n",
      " - 77s - loss: 0.0846 - acc: 0.9889 - val_loss: 0.7315 - val_acc: 0.7600\n",
      "Epoch 24/60\n",
      " - 76s - loss: 0.0935 - acc: 0.9778 - val_loss: 0.7195 - val_acc: 0.7667\n",
      "Epoch 25/60\n",
      " - 78s - loss: 0.0998 - acc: 0.9889 - val_loss: 0.6977 - val_acc: 0.7867\n",
      "Epoch 26/60\n",
      " - 77s - loss: 0.0660 - acc: 0.9944 - val_loss: 0.6960 - val_acc: 0.7967\n",
      "Epoch 27/60\n",
      " - 76s - loss: 0.1021 - acc: 0.9833 - val_loss: 0.6690 - val_acc: 0.8233\n",
      "Epoch 28/60\n",
      " - 77s - loss: 0.0640 - acc: 0.9944 - val_loss: 0.6309 - val_acc: 0.8400\n",
      "Epoch 29/60\n",
      " - 77s - loss: 0.0939 - acc: 0.9944 - val_loss: 0.6402 - val_acc: 0.8233\n",
      "Epoch 30/60\n",
      " - 77s - loss: 0.0892 - acc: 0.9889 - val_loss: 0.6358 - val_acc: 0.7933\n",
      "Epoch 31/60\n",
      " - 76s - loss: 0.0606 - acc: 0.9944 - val_loss: 0.6182 - val_acc: 0.8267\n",
      "Epoch 32/60\n",
      " - 76s - loss: 0.0533 - acc: 0.9944 - val_loss: 0.6383 - val_acc: 0.8333\n",
      "Epoch 33/60\n",
      " - 76s - loss: 0.0734 - acc: 0.9944 - val_loss: 0.6421 - val_acc: 0.8300\n",
      "Epoch 34/60\n",
      " - 76s - loss: 0.0655 - acc: 0.9944 - val_loss: 0.6209 - val_acc: 0.8233\n",
      "Epoch 35/60\n",
      " - 76s - loss: 0.0396 - acc: 1.0000 - val_loss: 0.6211 - val_acc: 0.8233\n",
      "Epoch 36/60\n",
      " - 76s - loss: 0.0409 - acc: 0.9944 - val_loss: 0.6508 - val_acc: 0.8200\n",
      "Epoch 37/60\n",
      " - 76s - loss: 0.0727 - acc: 0.9944 - val_loss: 0.6731 - val_acc: 0.7867\n",
      "Epoch 38/60\n",
      " - 75s - loss: 0.0934 - acc: 0.9678 - val_loss: 0.6305 - val_acc: 0.7833\n",
      "Epoch 39/60\n",
      " - 80s - loss: 0.0382 - acc: 1.0000 - val_loss: 0.6119 - val_acc: 0.7967\n",
      "Epoch 40/60\n",
      " - 77s - loss: 0.0354 - acc: 0.9944 - val_loss: 0.6204 - val_acc: 0.7933\n",
      "Epoch 41/60\n",
      " - 84s - loss: 0.0431 - acc: 1.0000 - val_loss: 0.5595 - val_acc: 0.8433\n",
      "Epoch 42/60\n",
      " - 87s - loss: 0.0442 - acc: 0.9944 - val_loss: 0.5197 - val_acc: 0.8600\n",
      "Epoch 43/60\n",
      " - 92s - loss: 0.0379 - acc: 1.0000 - val_loss: 0.5218 - val_acc: 0.8600\n",
      "Epoch 44/60\n",
      " - 88s - loss: 0.0472 - acc: 1.0000 - val_loss: 0.5483 - val_acc: 0.8433\n",
      "Epoch 45/60\n",
      " - 88s - loss: 0.0353 - acc: 1.0000 - val_loss: 0.5336 - val_acc: 0.8500\n",
      "Epoch 46/60\n",
      " - 89s - loss: 0.0313 - acc: 1.0000 - val_loss: 0.4835 - val_acc: 0.8733\n",
      "Epoch 47/60\n",
      " - 87s - loss: 0.0952 - acc: 0.9678 - val_loss: 0.5189 - val_acc: 0.8667\n",
      "Epoch 48/60\n",
      " - 83s - loss: 0.0374 - acc: 1.0000 - val_loss: 0.5491 - val_acc: 0.8433\n",
      "Epoch 49/60\n",
      " - 86s - loss: 0.0221 - acc: 1.0000 - val_loss: 0.5461 - val_acc: 0.8500\n",
      "Epoch 50/60\n",
      " - 87s - loss: 0.0222 - acc: 1.0000 - val_loss: 0.5241 - val_acc: 0.8600\n",
      "Epoch 51/60\n",
      " - 92s - loss: 0.0226 - acc: 1.0000 - val_loss: 0.4893 - val_acc: 0.8933\n",
      "Epoch 52/60\n",
      " - 85s - loss: 0.0130 - acc: 1.0000 - val_loss: 0.4802 - val_acc: 0.8967\n",
      "Epoch 53/60\n",
      " - 92s - loss: 0.1391 - acc: 0.9734 - val_loss: 0.4988 - val_acc: 0.8767\n",
      "Epoch 54/60\n",
      " - 94s - loss: 0.0164 - acc: 1.0000 - val_loss: 0.5065 - val_acc: 0.8800\n",
      "Epoch 55/60\n",
      " - 93s - loss: 0.0256 - acc: 1.0000 - val_loss: 0.4916 - val_acc: 0.8833\n",
      "Epoch 56/60\n",
      " - 93s - loss: 0.0257 - acc: 1.0000 - val_loss: 0.4689 - val_acc: 0.8933\n",
      "Epoch 57/60\n",
      " - 95s - loss: 0.0221 - acc: 1.0000 - val_loss: 0.4562 - val_acc: 0.8933\n",
      "Epoch 58/60\n",
      " - 96s - loss: 0.0289 - acc: 0.9944 - val_loss: 0.4390 - val_acc: 0.9067\n",
      "Epoch 59/60\n",
      " - 94s - loss: 0.0175 - acc: 1.0000 - val_loss: 0.4434 - val_acc: 0.9100\n",
      "Epoch 60/60\n",
      " - 96s - loss: 0.0357 - acc: 1.0000 - val_loss: 0.4612 - val_acc: 0.8633\n"
     ]
    },
    {
     "data": {
      "text/plain": [
       "<keras.callbacks.History at 0x1a24cc1cc0>"
      ]
     },
     "execution_count": 10,
     "metadata": {},
     "output_type": "execute_result"
    }
   ],
   "source": [
    "model.fit_generator(train_batches, steps_per_epoch=18, validation_data=valid_batches, validation_steps=3, epochs=60, verbose=2)"
   ]
  },
  {
   "cell_type": "code",
   "execution_count": 11,
   "metadata": {
    "collapsed": true
   },
   "outputs": [],
   "source": [
    "# predict sign language digits"
   ]
  },
  {
   "cell_type": "code",
   "execution_count": 12,
   "metadata": {
    "collapsed": true
   },
   "outputs": [],
   "source": [
    "test_labels = test_batches.classes  # can get do this, it's a ImageGenerator object"
   ]
  },
  {
   "cell_type": "code",
   "execution_count": 13,
   "metadata": {
    "collapsed": true
   },
   "outputs": [],
   "source": [
    "predictions = model.predict_generator(test_batches, steps=5, verbose=0)"
   ]
  },
  {
   "cell_type": "code",
   "execution_count": 14,
   "metadata": {
    "collapsed": true
   },
   "outputs": [],
   "source": [
    "cm = confusion_matrix(test_labels, predictions.argmax(axis=1))"
   ]
  },
  {
   "cell_type": "code",
   "execution_count": 15,
   "metadata": {},
   "outputs": [
    {
     "data": {
      "text/plain": [
       "{'0': 0,\n",
       " '1': 1,\n",
       " '2': 2,\n",
       " '3': 3,\n",
       " '4': 4,\n",
       " '5': 5,\n",
       " '6': 6,\n",
       " '7': 7,\n",
       " '8': 8,\n",
       " '9': 9}"
      ]
     },
     "execution_count": 15,
     "metadata": {},
     "output_type": "execute_result"
    }
   ],
   "source": [
    "test_batches.class_indices  # lets you see the predictions in the chronological order"
   ]
  },
  {
   "cell_type": "code",
   "execution_count": 16,
   "metadata": {},
   "outputs": [
    {
     "name": "stdout",
     "output_type": "stream",
     "text": [
      "Confusion matrix, without normalization\n",
      "[[5 0 0 0 0 0 0 0 0 0]\n",
      " [0 5 0 0 0 0 0 0 0 0]\n",
      " [0 1 4 0 0 0 0 0 0 0]\n",
      " [0 0 0 5 0 0 0 0 0 0]\n",
      " [0 0 0 0 5 0 0 0 0 0]\n",
      " [0 0 0 0 0 5 0 0 0 0]\n",
      " [1 0 0 0 0 0 3 1 0 0]\n",
      " [1 0 0 0 0 0 0 4 0 0]\n",
      " [0 0 0 0 0 0 0 1 4 0]\n",
      " [0 0 0 0 0 0 0 0 0 5]]\n"
     ]
    },
    {
     "data": {
      "image/png": "[encoded data removed]",
      "text/plain": [
       "<Figure size 432x288 with 2 Axes>"
      ]
     },
     "metadata": {},
     "output_type": "display_data"
    }
   ],
   "source": [
    "cm_plot_labels = ['0', '1', '2', '3', '4', '5', '6', '7', '8','9']\n",
    "plot_confusion_matrix(cm, cm_plot_labels, title='Confusion Matrix')"
   ]
  },
  {
   "cell_type": "code",
   "execution_count": null,
   "metadata": {
    "collapsed": true
   },
   "outputs": [],
   "source": []
  }
 ],
 "metadata": {
  "kernelspec": {
   "display_name": "Python 3",
   "language": "python",
   "name": "python3"
  },
  "language_info": {
   "codemirror_mode": {
    "name": "ipython",
    "version": 3
   },
   "file_extension": ".py",
   "mimetype": "text/x-python",
   "name": "python",
   "nbconvert_exporter": "python",
   "pygments_lexer": "ipython3",
   "version": "3.6.6"
  }
 },
 "nbformat": 4,
 "nbformat_minor": 2
}
