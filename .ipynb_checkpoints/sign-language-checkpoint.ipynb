{
 "cells": [
  {
   "cell_type": "code",
   "execution_count": 1,
   "metadata": {},
   "outputs": [
    {
     "name": "stderr",
     "output_type": "stream",
     "text": [
      "Using TensorFlow backend.\n"
     ]
    }
   ],
   "source": [
    "import numpy as np\n",
    "import keras\n",
    "from keras import backend as K\n",
    "from keras.layers.core import Dense\n",
    "from keras.optimizers import Adam\n",
    "from keras.metrics import categorical_crossentropy\n",
    "from keras.preprocessing.image import ImageDataGenerator\n",
    "from keras.preprocessing import image\n",
    "from keras.models import Model\n",
    "from keras.applications import imagenet_utils\n",
    "from sklearn.metrics import confusion_matrix\n",
    "import itertools\n",
    "from matplotlib import pyplot as plt\n",
    "%matplotlib inline"
   ]
  },
  {
   "cell_type": "code",
   "execution_count": 2,
   "metadata": {
    "collapsed": true
   },
   "outputs": [],
   "source": [
    "train_path = 'Sign-Language-Digits-Dataset/train'\n",
    "valid_path = 'Sign-Language-Digits-Dataset/valid'\n",
    "test_path = 'Sign-Language-Digits-Dataset/test'"
   ]
  },
  {
   "cell_type": "code",
   "execution_count": 3,
   "metadata": {},
   "outputs": [
    {
     "name": "stdout",
     "output_type": "stream",
     "text": [
      "Found 1712 images belonging to 10 classes.\n",
      "Found 300 images belonging to 10 classes.\n",
      "Found 50 images belonging to 10 classes.\n"
     ]
    }
   ],
   "source": [
    "# passes in batches of normalized data\n",
    "train_batches = ImageDataGenerator(preprocessing_function=keras.applications.mobilenet.preprocess_input).flow_from_directory(train_path, target_size=(224,224), batch_size=10)\n",
    "valid_batches = ImageDataGenerator(preprocessing_function=keras.applications.mobilenet.preprocess_input).flow_from_directory(valid_path, target_size=(224,224), batch_size=10)\n",
    "test_batches = ImageDataGenerator(preprocessing_function=keras.applications.mobilenet.preprocess_input).flow_from_directory(test_path, target_size=(224,224), batch_size=10, shuffle=False)"
   ]
  },
  {
   "cell_type": "code",
   "execution_count": 4,
   "metadata": {
    "collapsed": true
   },
   "outputs": [],
   "source": [
    "def plot_confusion_matrix(cm, classes,\n",
    "                          normalize=False,\n",
    "                          title='Confusion matrix',\n",
    "                          cmap=plt.cm.Blues):\n",
    "    \"\"\"\n",
    "    This function prints and plots the confusion matrix.\n",
    "    Normalization can be applied by setting `normalize=True`.\n",
    "    \"\"\"\n",
    "    if normalize:\n",
    "        cm = cm.astype('float') / cm.sum(axis=1)[:, np.newaxis]\n",
    "        print(\"Normalized confusion matrix\")\n",
    "    else:\n",
    "        print('Confusion matrix, without normalization')\n",
    "\n",
    "    print(cm)\n",
    "\n",
    "    plt.imshow(cm, interpolation='nearest', cmap=cmap)\n",
    "    plt.title(title)\n",
    "    plt.colorbar()\n",
    "    tick_marks = np.arange(len(classes))\n",
    "    plt.xticks(tick_marks, classes, rotation=45)\n",
    "    plt.yticks(tick_marks, classes)\n",
    "\n",
    "    fmt = '.2f' if normalize else 'd'\n",
    "    thresh = cm.max() / 2.\n",
    "    for i, j in itertools.product(range(cm.shape[0]), range(cm.shape[1])):\n",
    "        plt.text(j, i, format(cm[i, j], fmt),\n",
    "                 horizontalalignment=\"center\",\n",
    "                 color=\"white\" if cm[i, j] > thresh else \"black\")\n",
    "\n",
    "    plt.tight_layout()\n",
    "    plt.ylabel('True label')\n",
    "    plt.xlabel('Predicted label')"
   ]
  },
  {
   "cell_type": "code",
   "execution_count": 5,
   "metadata": {
    "collapsed": true
   },
   "outputs": [],
   "source": [
    "mobile = keras.applications.mobilenet.MobileNet()"
   ]
  },
  {
   "cell_type": "code",
   "execution_count": 6,
   "metadata": {
    "collapsed": true,
    "scrolled": false
   },
   "outputs": [],
   "source": [
    "x = mobile.layers[-6].output\n",
    "predictions = Dense(10, activation='softmax')(x)"
   ]
  },
  {
   "cell_type": "code",
   "execution_count": 7,
   "metadata": {
    "collapsed": true
   },
   "outputs": [],
   "source": [
    "# the new model, made from the original mobilenet, up to the 6th layer,\n",
    "# and outputting 10 custom classes this time (from predictions line)\n",
    "model = Model(inputs=mobile.input, outputs=predictions)"
   ]
  },
  {
   "cell_type": "code",
   "execution_count": 8,
   "metadata": {
    "collapsed": true
   },
   "outputs": [],
   "source": [
    "for layer in model.layers[:-23]:\n",
    "    layer.trainable = False"
   ]
  },
  {
   "cell_type": "code",
   "execution_count": 9,
   "metadata": {
    "collapsed": true
   },
   "outputs": [],
   "source": [
    "model.compile(Adam(lr=0.0001), loss='categorical_crossentropy', metrics=['accuracy'])"
   ]
  },
  {
   "cell_type": "code",
   "execution_count": 10,
   "metadata": {
    "scrolled": false
   },
   "outputs": [
    {
     "name": "stdout",
     "output_type": "stream",
     "text": [
      "Epoch 1/60\n",
      " - 80s - loss: 1.5295 - acc: 0.6278 - val_loss: 3.2805 - val_acc: 0.0900\n",
      "Epoch 2/60\n",
      " - 77s - loss: 0.1093 - acc: 1.0000 - val_loss: 3.0592 - val_acc: 0.1100\n",
      "Epoch 3/60\n",
      " - 74s - loss: 0.0354 - acc: 1.0000 - val_loss: 2.8848 - val_acc: 0.1333\n",
      "Epoch 4/60\n",
      " - 73s - loss: 0.0223 - acc: 1.0000 - val_loss: 2.7936 - val_acc: 0.1467\n",
      "Epoch 5/60\n",
      " - 73s - loss: 0.0171 - acc: 1.0000 - val_loss: 2.7390 - val_acc: 0.1533\n",
      "Epoch 6/60\n",
      " - 72s - loss: 0.0136 - acc: 1.0000 - val_loss: 2.7013 - val_acc: 0.1567\n",
      "Epoch 7/60\n",
      " - 73s - loss: 0.0118 - acc: 1.0000 - val_loss: 2.6746 - val_acc: 0.1667\n",
      "Epoch 8/60\n",
      " - 92s - loss: 0.0098 - acc: 1.0000 - val_loss: 2.6593 - val_acc: 0.1767\n",
      "Epoch 9/60\n",
      " - 86s - loss: 0.0087 - acc: 1.0000 - val_loss: 2.6422 - val_acc: 0.1800\n",
      "Epoch 10/60\n",
      " - 80s - loss: 0.0076 - acc: 1.0000 - val_loss: 2.6322 - val_acc: 0.1933\n",
      "Epoch 11/60\n",
      " - 86s - loss: 0.0067 - acc: 1.0000 - val_loss: 2.6213 - val_acc: 0.1933\n",
      "Epoch 12/60\n",
      " - 89s - loss: 0.0060 - acc: 1.0000 - val_loss: 2.6160 - val_acc: 0.1933\n",
      "Epoch 13/60\n",
      " - 77s - loss: 0.0055 - acc: 1.0000 - val_loss: 2.6095 - val_acc: 0.1933\n",
      "Epoch 14/60\n",
      " - 75s - loss: 0.0049 - acc: 1.0000 - val_loss: 2.6011 - val_acc: 0.1900\n",
      "Epoch 15/60\n",
      " - 77s - loss: 0.0045 - acc: 1.0000 - val_loss: 2.5964 - val_acc: 0.1900\n",
      "Epoch 16/60\n",
      " - 75s - loss: 0.0041 - acc: 1.0000 - val_loss: 2.5907 - val_acc: 0.1900\n",
      "Epoch 17/60\n",
      " - 74s - loss: 0.0038 - acc: 1.0000 - val_loss: 2.5866 - val_acc: 0.1933\n",
      "Epoch 18/60\n",
      " - 75s - loss: 0.0035 - acc: 1.0000 - val_loss: 2.5842 - val_acc: 0.1967\n",
      "Epoch 19/60\n",
      " - 77s - loss: 0.0033 - acc: 1.0000 - val_loss: 2.5785 - val_acc: 0.1967\n",
      "Epoch 20/60\n",
      " - 74s - loss: 0.0030 - acc: 1.0000 - val_loss: 2.5754 - val_acc: 0.2033\n",
      "Epoch 21/60\n",
      " - 74s - loss: 0.0029 - acc: 1.0000 - val_loss: 2.5714 - val_acc: 0.2033\n",
      "Epoch 22/60\n",
      " - 74s - loss: 0.0027 - acc: 1.0000 - val_loss: 2.5678 - val_acc: 0.2067\n",
      "Epoch 23/60\n",
      " - 73s - loss: 0.0025 - acc: 1.0000 - val_loss: 2.5660 - val_acc: 0.2067\n",
      "Epoch 24/60\n",
      " - 73s - loss: 0.0024 - acc: 1.0000 - val_loss: 2.5627 - val_acc: 0.2067\n",
      "Epoch 25/60\n",
      " - 74s - loss: 0.0022 - acc: 1.0000 - val_loss: 2.5603 - val_acc: 0.2067\n",
      "Epoch 26/60\n",
      " - 74s - loss: 0.0021 - acc: 1.0000 - val_loss: 2.5580 - val_acc: 0.2100\n",
      "Epoch 27/60\n",
      " - 76s - loss: 0.0020 - acc: 1.0000 - val_loss: 2.5549 - val_acc: 0.2133\n",
      "Epoch 28/60\n",
      " - 75s - loss: 0.0019 - acc: 1.0000 - val_loss: 2.5515 - val_acc: 0.2133\n",
      "Epoch 29/60\n",
      " - 74s - loss: 0.0018 - acc: 1.0000 - val_loss: 2.5495 - val_acc: 0.2133\n",
      "Epoch 30/60\n",
      " - 74s - loss: 0.0017 - acc: 1.0000 - val_loss: 2.5483 - val_acc: 0.2133\n",
      "Epoch 31/60\n",
      " - 74s - loss: 0.0017 - acc: 1.0000 - val_loss: 2.5473 - val_acc: 0.2100\n",
      "Epoch 32/60\n",
      " - 75s - loss: 0.0016 - acc: 1.0000 - val_loss: 2.5438 - val_acc: 0.2133\n",
      "Epoch 33/60\n",
      " - 78s - loss: 0.0015 - acc: 1.0000 - val_loss: 2.5426 - val_acc: 0.2133\n",
      "Epoch 34/60\n",
      " - 75s - loss: 0.0014 - acc: 1.0000 - val_loss: 2.5416 - val_acc: 0.2133\n",
      "Epoch 35/60\n",
      " - 75s - loss: 0.0014 - acc: 1.0000 - val_loss: 2.5401 - val_acc: 0.2133\n",
      "Epoch 36/60\n",
      " - 75s - loss: 0.0013 - acc: 1.0000 - val_loss: 2.5393 - val_acc: 0.2133\n",
      "Epoch 37/60\n",
      " - 75s - loss: 0.0013 - acc: 1.0000 - val_loss: 2.5372 - val_acc: 0.2133\n",
      "Epoch 38/60\n",
      " - 75s - loss: 0.0012 - acc: 1.0000 - val_loss: 2.5363 - val_acc: 0.2133\n",
      "Epoch 39/60\n",
      " - 75s - loss: 0.0012 - acc: 1.0000 - val_loss: 2.5347 - val_acc: 0.2133\n",
      "Epoch 40/60\n",
      " - 76s - loss: 0.0011 - acc: 1.0000 - val_loss: 2.5334 - val_acc: 0.2133\n",
      "Epoch 41/60\n",
      " - 82s - loss: 0.0011 - acc: 1.0000 - val_loss: 2.5330 - val_acc: 0.2200\n",
      "Epoch 42/60\n",
      " - 79s - loss: 0.0010 - acc: 1.0000 - val_loss: 2.5301 - val_acc: 0.2167\n",
      "Epoch 43/60\n",
      " - 84s - loss: 0.0010 - acc: 1.0000 - val_loss: 2.5302 - val_acc: 0.2167\n",
      "Epoch 44/60\n",
      " - 88s - loss: 9.7526e-04 - acc: 1.0000 - val_loss: 2.5273 - val_acc: 0.2200\n",
      "Epoch 45/60\n",
      " - 85s - loss: 9.4879e-04 - acc: 1.0000 - val_loss: 2.5274 - val_acc: 0.2200\n",
      "Epoch 46/60\n",
      " - 88s - loss: 9.1386e-04 - acc: 1.0000 - val_loss: 2.5280 - val_acc: 0.2200\n",
      "Epoch 47/60\n",
      " - 96s - loss: 8.8226e-04 - acc: 1.0000 - val_loss: 2.5249 - val_acc: 0.2200\n",
      "Epoch 48/60\n",
      " - 99s - loss: 8.6096e-04 - acc: 1.0000 - val_loss: 2.5228 - val_acc: 0.2200\n",
      "Epoch 49/60\n",
      " - 98s - loss: 8.3313e-04 - acc: 1.0000 - val_loss: 2.5229 - val_acc: 0.2200\n",
      "Epoch 50/60\n",
      " - 105s - loss: 8.0219e-04 - acc: 1.0000 - val_loss: 2.5220 - val_acc: 0.2200\n",
      "Epoch 51/60\n",
      " - 86s - loss: 7.8317e-04 - acc: 1.0000 - val_loss: 2.5222 - val_acc: 0.2233\n",
      "Epoch 52/60\n",
      " - 100s - loss: 7.5516e-04 - acc: 1.0000 - val_loss: 2.5217 - val_acc: 0.2233\n",
      "Epoch 53/60\n",
      " - 96s - loss: 7.3664e-04 - acc: 1.0000 - val_loss: 2.5178 - val_acc: 0.2233\n",
      "Epoch 54/60\n",
      " - 95s - loss: 7.1706e-04 - acc: 1.0000 - val_loss: 2.5179 - val_acc: 0.2233\n",
      "Epoch 55/60\n",
      " - 90s - loss: 6.9219e-04 - acc: 1.0000 - val_loss: 2.5172 - val_acc: 0.2233\n",
      "Epoch 56/60\n",
      " - 103s - loss: 6.7585e-04 - acc: 1.0000 - val_loss: 2.5152 - val_acc: 0.2233\n",
      "Epoch 57/60\n",
      " - 97s - loss: 6.5902e-04 - acc: 1.0000 - val_loss: 2.5156 - val_acc: 0.2233\n",
      "Epoch 58/60\n",
      " - 102s - loss: 6.3970e-04 - acc: 1.0000 - val_loss: 2.5143 - val_acc: 0.2233\n",
      "Epoch 59/60\n",
      " - 104s - loss: 6.1983e-04 - acc: 1.0000 - val_loss: 2.5141 - val_acc: 0.2233\n",
      "Epoch 60/60\n",
      " - 109s - loss: 6.0652e-04 - acc: 1.0000 - val_loss: 2.5123 - val_acc: 0.2233\n"
     ]
    },
    {
     "data": {
      "text/plain": [
       "<keras.callbacks.History at 0x1a21d59860>"
      ]
     },
     "execution_count": 10,
     "metadata": {},
     "output_type": "execute_result"
    }
   ],
   "source": [
    "model.fit_generator(train_batches, steps_per_epoch=18, validation_data=valid_batches, validation_steps=3, epochs=60, verbose=2)"
   ]
  },
  {
   "cell_type": "code",
   "execution_count": 11,
   "metadata": {
    "collapsed": true
   },
   "outputs": [],
   "source": [
    "# predict sign language digits"
   ]
  },
  {
   "cell_type": "code",
   "execution_count": 12,
   "metadata": {
    "collapsed": true
   },
   "outputs": [],
   "source": [
    "test_labels = test_batches.classes  # can get do this, it's a ImageGenerator object"
   ]
  },
  {
   "cell_type": "code",
   "execution_count": 13,
   "metadata": {
    "collapsed": true
   },
   "outputs": [],
   "source": [
    "predictions = model.predict_generator(test_batches, steps=5, verbose=0)"
   ]
  },
  {
   "cell_type": "code",
   "execution_count": 14,
   "metadata": {
    "collapsed": true
   },
   "outputs": [],
   "source": [
    "cm = confusion_matrix(test_labels, predictions.argmax(axis=1))"
   ]
  },
  {
   "cell_type": "code",
   "execution_count": 15,
   "metadata": {},
   "outputs": [
    {
     "data": {
      "text/plain": [
       "{'0': 0,\n",
       " '1': 1,\n",
       " '2': 2,\n",
       " '3': 3,\n",
       " '4': 4,\n",
       " '5': 5,\n",
       " '6': 6,\n",
       " '7': 7,\n",
       " '8': 8,\n",
       " '9': 9}"
      ]
     },
     "execution_count": 15,
     "metadata": {},
     "output_type": "execute_result"
    }
   ],
   "source": [
    "test_batches.class_indices  # lets you see the predictions in the chronological order"
   ]
  },
  {
   "cell_type": "code",
   "execution_count": 16,
   "metadata": {},
   "outputs": [
    {
     "name": "stdout",
     "output_type": "stream",
     "text": [
      "Confusion matrix, without normalization\n",
      "[[0 0 1 0 4 0 0 0 0 0]\n",
      " [0 0 0 0 4 0 0 0 1 0]\n",
      " [0 0 3 0 2 0 0 0 0 0]\n",
      " [0 0 0 5 0 0 0 0 0 0]\n",
      " [0 0 0 1 2 0 0 0 2 0]\n",
      " [0 0 0 5 0 0 0 0 0 0]\n",
      " [0 0 0 0 0 0 5 0 0 0]\n",
      " [0 0 2 1 2 0 0 0 0 0]\n",
      " [0 0 0 0 2 0 0 0 3 0]\n",
      " [0 0 0 1 1 0 1 0 1 1]]\n"
     ]
    },
    {
     "data": {
      "image/png": "[encoded data removed]",
      "text/plain": [
       "<Figure size 432x288 with 2 Axes>"
      ]
     },
     "metadata": {},
     "output_type": "display_data"
    }
   ],
   "source": [
    "cm_plot_labels = ['0', '1', '2', '3', '4', '5', '6', '7', '8','9']\n",
    "plot_confusion_matrix(cm, cm_plot_labels, title='Confusion Matrix')"
   ]
  },
  {
   "cell_type": "code",
   "execution_count": null,
   "metadata": {
    "collapsed": true
   },
   "outputs": [],
   "source": []
  }
 ],
 "metadata": {
  "kernelspec": {
   "display_name": "Python 3",
   "language": "python",
   "name": "python3"
  },
  "language_info": {
   "codemirror_mode": {
    "name": "ipython",
    "version": 3
   },
   "file_extension": ".py",
   "mimetype": "text/x-python",
   "name": "python",
   "nbconvert_exporter": "python",
   "pygments_lexer": "ipython3",
   "version": "3.6.6"
  }
 },
 "nbformat": 4,
 "nbformat_minor": 2
}
